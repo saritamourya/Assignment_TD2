{
 "cells": [
  {
   "cell_type": "markdown",
   "metadata": {
    "pycharm": {
     "name": "#%% md\n"
    }
   },
   "source": [
    "# List comprehension and Try Catch"
   ]
  },
  {
   "cell_type": "markdown",
   "metadata": {
    "pycharm": {
     "name": "#%% md\n"
    }
   },
   "source": [
    "## Recall: this is the standard structure of a list comprehension"
   ]
  },
  {
   "cell_type": "markdown",
   "metadata": {
    "pycharm": {
     "name": "#%% md\n"
    }
   },
   "source": [
    "## [ expression for elem in list if statement]"
   ]
  },
  {
   "cell_type": "code",
   "execution_count": 7,
   "metadata": {
    "pycharm": {
     "is_executing": true,
     "name": "#%%\n"
    }
   },
   "outputs": [],
   "source": [
    "import numpy as np\n",
    "\n",
    "my_word = 'Robotics'\n",
    "my_sentence = 'A robot may not injure a human being or, through interaction, allow a human being to come to harm'\n",
    "my_numbers = range(100)\n",
    "my_matrix = np.asarray([[2,4,6,8,10], [1,3,7,9,11]])"
   ]
  },
  {
   "cell_type": "markdown",
   "metadata": {
    "pycharm": {
     "name": "#%% md\n"
    }
   },
   "source": [
    "<div class=\"alert alert-success\">\n",
    "\n",
    "<b>EXERCISE 1</b>:\n",
    "\n",
    "Use list comprehension to print the letters of my_word one by one"
   ]
  },
  {
   "cell_type": "code",
   "execution_count": 73,
   "metadata": {
    "pycharm": {
     "is_executing": true,
     "name": "#%%\n"
    }
   },
   "outputs": [
    {
     "name": "stdout",
     "output_type": "stream",
     "text": [
      "['R', 'o', 'b', 'o', 't', 'i', 'c', 's']\n"
     ]
    }
   ],
   "source": [
    "my_word = 'Robotics'\n",
    "new_list = [a for a in my_word]\n",
    "print(new_list)\n"
   ]
  },
  {
   "cell_type": "markdown",
   "metadata": {},
   "source": [
    "<div class=\"alert alert-success\">\n",
    "\n",
    "<b>EXERCISE 2</b>:\n",
    "\n",
    "Use list comprehension to print the vowels of my_sentence"
   ]
  },
  {
   "cell_type": "code",
   "execution_count": 27,
   "metadata": {},
   "outputs": [
    {
     "name": "stdout",
     "output_type": "stream",
     "text": [
      "['A', 'o', 'o', 'a', 'o', 'i', 'u', 'e', 'a', 'u', 'a', 'e', 'i', 'o', 'o', 'u', 'i', 'e', 'a', 'i', 'o', 'a', 'o', 'a', 'u', 'a', 'e', 'i', 'o', 'o', 'e', 'o', 'a']\n"
     ]
    }
   ],
   "source": [
    "alphabet_vowels = 'aeiou'\n",
    "my_sentence_vowels = [char for char in my_sentence if char.lower() in alphabet_vowels]# Your list comprehension here\n",
    "print(my_sentence_vowels)\n",
    "# Note: the letter 'A' from the sentence start is missing: 'a' != 'A', and 'A' not in alphabet_vowels, so ignore it"
   ]
  },
  {
   "cell_type": "markdown",
   "metadata": {
    "pycharm": {
     "name": "#%%\n"
    }
   },
   "source": [
    "<div class=\"alert alert-success\">\n",
    "\n",
    "<b>EXERCISE 3</b>:\n",
    "\n",
    "Use list comprehension to print the even numbers of my_numbers"
   ]
  },
  {
   "cell_type": "code",
   "execution_count": 36,
   "metadata": {},
   "outputs": [
    {
     "name": "stdout",
     "output_type": "stream",
     "text": [
      "[0, 2, 4, 6, 8, 10, 12, 14, 16, 18, 20, 22, 24, 26, 28, 30, 32, 34, 36, 38, 40, 42, 44, 46, 48, 50, 52, 54, 56, 58, 60, 62, 64, 66, 68, 70, 72, 74, 76, 78, 80, 82, 84, 86, 88, 90, 92, 94, 96, 98]\n"
     ]
    }
   ],
   "source": [
    "# Hint: the operator \"%\" can be use to obtain the remainder of a division, i.e.   5 % 3 = 2        (1 * 3 + 2)\n",
    "even_numbers_list = [x for x in my_numbers if x % 2 == 0] # Your list comprehension here\n",
    "print(even_numbers_list)"
   ]
  },
  {
   "cell_type": "markdown",
   "metadata": {},
   "source": [
    "<div class=\"alert alert-success\">\n",
    "\n",
    "<b>EXERCISE 4</b>:\n",
    "\n",
    "Use list comprehension to print the elements of my_numbers which are divisible by both 2 and 5"
   ]
  },
  {
   "cell_type": "code",
   "execution_count": 37,
   "metadata": {},
   "outputs": [
    {
     "name": "stdout",
     "output_type": "stream",
     "text": [
      "[0, 10, 20, 30, 40, 50, 60, 70, 80, 90]\n"
     ]
    }
   ],
   "source": [
    "# Hint: See hint in Exercise 3 \n",
    "divisible_by_two_and_five_list = [x for x in my_numbers if x % 2 == 0 and x % 5 == 0] # Your list comprehension here\n",
    "print(divisible_by_two_and_five_list)"
   ]
  },
  {
   "cell_type": "markdown",
   "metadata": {},
   "source": [
    "<div class=\"alert alert-success\">\n",
    "\n",
    "<b>EXERCISE 5</b>:\n",
    "    \n",
    "Use list comprehension to get the sum of the first 1000 odd numbers squared\n",
    "    \n",
    "Note: The sum of the squared odd numbers in range(1000) is also accepted"
   ]
  },
  {
   "cell_type": "code",
   "execution_count": 74,
   "metadata": {},
   "outputs": [
    {
     "name": "stdout",
     "output_type": "stream",
     "text": [
      "1333333000\n"
     ]
    }
   ],
   "source": [
    "num = range(2000)\n",
    "odd_number = [x for x in num if x % 2 != 0]\n",
    "sum_odd_squared = sum([ num ** 2 for num in odd_number]) # Your list comprehension inside the sum here\n",
    "print(sum_odd_squared) "
   ]
  },
  {
   "cell_type": "code",
   "execution_count": 75,
   "metadata": {},
   "outputs": [
    {
     "name": "stdout",
     "output_type": "stream",
     "text": [
      "2 5\n",
      "5\n",
      "[ 2  4  6  8 10]\n",
      "[ 1  3  7  9 11]\n",
      "[[2, 1], [4, 3], [6, 7], [8, 9], [10, 11]]\n"
     ]
    }
   ],
   "source": [
    "dim0_size,dim1_size = my_matrix.shape\n",
    "print(dim0_size,dim1_size)\n",
    "x=len(my_matrix[0])\n",
    "print(x)\n",
    "print(my_matrix[0])\n",
    "print(my_matrix[1])\n",
    "my_matrix_transposed = [[row[dim0_size] for row in my_matrix] for dim0_size in range(dim1_size)]# Your NESTED list comprehension here\n",
    "print(my_matrix_transposed)\n",
    "\n",
    "\n",
    "#print(my_matrix.transpose())"
   ]
  },
  {
   "cell_type": "markdown",
   "metadata": {},
   "source": [
    "<div class=\"alert alert-success\">\n",
    "\n",
    "<b>EXERCISE 7</b>:\n",
    "    \n",
    "Use Try statement to handle this non-existant file and print an informative message"
   ]
  },
  {
   "cell_type": "code",
   "execution_count": 79,
   "metadata": {},
   "outputs": [
    {
     "name": "stdout",
     "output_type": "stream",
     "text": [
      "Something is not working correctly\n"
     ]
    }
   ],
   "source": [
    "try:\n",
    "    my_file = open('notAfile.txt')\n",
    "    try:\n",
    "        my_file.write('hello handsome :)')\n",
    "    except:\n",
    "        print(\"Something went wrong\")\n",
    "    finally:\n",
    "        my_file.close()\n",
    "except:\n",
    "    print(\"Something is not working correctly\")\n",
    "    \n",
    "        \n",
    "    "
   ]
  },
  {
   "cell_type": "code",
   "execution_count": 19,
   "metadata": {},
   "outputs": [
    {
     "name": "stdout",
     "output_type": "stream",
     "text": [
      "File does not exist\n"
     ]
    }
   ],
   "source": [
    "# Your Try ... Except here"
   ]
  },
  {
   "cell_type": "markdown",
   "metadata": {},
   "source": [
    "<div class=\"alert alert-success\">\n",
    "\n",
    "<b>EXERCISE 8</b>:\n",
    "   \n",
    "Ask a number to the user using the function \"input()\". For this to work, you may need to use and infinit While loop\n",
    "    \n",
    "Use Try statement to verify the user input using ValueError"
   ]
  },
  {
   "cell_type": "code",
   "execution_count": 4,
   "metadata": {},
   "outputs": [
    {
     "name": "stdout",
     "output_type": "stream",
     "text": [
      "Enter the age:l\n",
      "The input is not a number\n",
      "Enter the age:9\n"
     ]
    }
   ],
   "source": [
    "while True:\n",
    "     \n",
    "    try:\n",
    "        x = input(\"Enter the age:\")\n",
    "        x = int(x)\n",
    "        break\n",
    "    \n",
    "    except ValueError:\n",
    "        print(\"The input is not a number\")\n",
    "        \n",
    "#     else:\n",
    "#         print(\"Enter the value smaller than 10\")\n",
    "#     finally: \n",
    "#         print(\"smiling is good for health\")"
   ]
  },
  {
   "cell_type": "code",
   "execution_count": 5,
   "metadata": {},
   "outputs": [
    {
     "data": {
      "text/plain": [
       "int"
      ]
     },
     "execution_count": 5,
     "metadata": {},
     "output_type": "execute_result"
    }
   ],
   "source": [
    "type(int('4'))"
   ]
  },
  {
   "cell_type": "markdown",
   "metadata": {},
   "source": [
    "<div class=\"alert alert-success\">\n",
    "\n",
    "<b>BONUS: EXERCISE 9</b>:\n",
    "   \n",
    "From the above, handle the KeyboardInterrupt. It is expected to not work properly"
   ]
  },
  {
   "cell_type": "code",
   "execution_count": 1,
   "metadata": {
    "scrolled": true
   },
   "outputs": [
    {
     "name": "stdout",
     "output_type": "stream",
     "text": [
      "You typed CTRL + C, which is teh keyboard interrupt exception\n",
      "Enter your Name:Sarita\n",
      "['S', 'a', 'r', 'i', 't', 'a']\n"
     ]
    }
   ],
   "source": [
    "while True:\n",
    "    try:\n",
    "        username = input(\"Enter your Name:\")\n",
    "    except KeyboardInterrupt:\n",
    "        print(\"You typed CTRL + C, which is teh keyboard interrupt exception\")\n",
    "    else:\n",
    "        new_list = [a for a in username]\n",
    "        print(new_list)\n",
    "        break\n",
    "       "
   ]
  },
  {
   "cell_type": "markdown",
   "metadata": {},
   "source": [
    "<div class=\"alert alert-success\">\n",
    "\n",
    "<b>BONUS: EXERCISE 10</b>:\n",
    "   \n",
    "From the above, manage the SystemExit error (killing the kernel)"
   ]
  },
  {
   "cell_type": "code",
   "execution_count": 9,
   "metadata": {},
   "outputs": [
    {
     "name": "stdout",
     "output_type": "stream",
     "text": [
      "Enter your Name:Sarita\n",
      "Your name is:Sarita\n"
     ]
    }
   ],
   "source": [
    "\n",
    "try:\n",
    "    username = input(\"Enter your Name:\")\n",
    "    print(\"Your name is:\" +username)\n",
    "except KeyboardInterrupt:\n",
    "    print(\"You typed CTRL + C, which is teh keyboard interrupt exception\")\n",
    "except SystemExit:\n",
    "    print(\"SystemExit error occurred.\")\n",
    "    raise  \n",
    "    \n",
    "      "
   ]
  },
  {
   "cell_type": "markdown",
   "metadata": {},
   "source": [
    "<div class=\"alert alert-success\">\n",
    "\n",
    "<b>BONUS</b>:\n",
    "   \n",
    "Rewrite each of the following codes using list comprehensions"
   ]
  },
  {
   "cell_type": "code",
   "execution_count": 12,
   "metadata": {},
   "outputs": [
    {
     "name": "stdout",
     "output_type": "stream",
     "text": [
      "[1, 2, 4, 8, 16, 32, 64, 128, 256, 512, 1024, 2048, 4096, 8192, 16384, 32768, 65536, 131072, 262144, 524288]\n"
     ]
    }
   ],
   "source": [
    "# compute first 20 powers of 2\n",
    "i = 0\n",
    "powers = [2 ** i for i in range(20)]\n",
    "print(powers)\n"
   ]
  },
  {
   "cell_type": "code",
   "execution_count": 14,
   "metadata": {},
   "outputs": [
    {
     "name": "stdout",
     "output_type": "stream",
     "text": [
      "[3.0, 3.1, 3.14, 3.142, 3.1416, 3.14159, 3.141593, 3.1415927, 3.14159265, 3.141592654, 3.1415926536, 3.14159265359, 3.14159265359, 3.1415926535898]\n"
     ]
    }
   ],
   "source": [
    "import math\n",
    "# first 14 k- digit approximations of pi\n",
    "approximations = [round(math.pi, i) for i in range(14)]\n",
    "print(approximations)\n"
   ]
  },
  {
   "cell_type": "code",
   "execution_count": 15,
   "metadata": {},
   "outputs": [
    {
     "name": "stdout",
     "output_type": "stream",
     "text": [
      "[(1, 8, 0), (1, 8, -1), (1, 4, 0), (1, 4, -1), (1, 3, 0), (1, 3, -1), (1, 0, 0), (1, 0, -1), (2, 8, 0), (2, 8, -1), (2, 4, 0), (2, 4, -1), (2, 3, 0), (2, 3, -1), (2, 0, 0), (2, 0, -1), (-1, 8, 0), (-1, 8, -1), (-1, 4, 0), (-1, 4, -1), (-1, 3, 0), (-1, 3, -1), (-1, 0, 0), (-1, 0, -1)]\n"
     ]
    }
   ],
   "source": [
    "# Generate all (x, y, z) coordinates from three lists\n",
    "xpoints = [1 , 2 , -1]\n",
    "ypoints = [8 , 4 , 3 , 0]\n",
    "zpoints = [0 , -1]\n",
    "points = [(x, y, z) for x in xpoints for y in ypoints for z in zpoints]\n",
    "print(points)\n",
    "#for x in xpoints :\n",
    "#    for y in ypoints :\n",
    "#        for z in zpoints :\n",
    "#            points.append(( x , y , z ))"
   ]
  },
  {
   "cell_type": "markdown",
   "metadata": {},
   "source": [
    "# Classes"
   ]
  },
  {
   "cell_type": "markdown",
   "metadata": {},
   "source": [
    "Create a class Complex that could be used according to:"
   ]
  },
  {
   "cell_type": "code",
   "execution_count": 20,
   "metadata": {},
   "outputs": [],
   "source": [
    "import math\n",
    "class Complex:\n",
    "    def __init__(self, real, imag):\n",
    "        self.real = real\n",
    "        self.imag = imag\n",
    "    def mod(self):\n",
    "        return math.sqrt(self.real**2 + self.imag**2)\n",
    "    def arg(self):\n",
    "        return math.atan2(self.imag, self.real)\n",
    "    def conj(self):\n",
    "        return Complex(self.real, -self.imag)\n",
    "    def polar(self):\n",
    "        modulus = self.mod()\n",
    "        argument = self.arg()\n",
    "        return f\"{modulus} * exp ({argument} i)\"\n",
    "# z1 = Complex (3 , 4)\n",
    "# z1.real\n",
    "# # 3\n",
    "# z1.imag\n",
    "# # 4\n",
    "# z1.mod ()\n",
    "# # 5.0\n",
    "# z1.arg ()\n",
    "# # 0.9272952180016122\n",
    "# z1.conj().imag\n",
    "# # -4"
   ]
  },
  {
   "cell_type": "markdown",
   "metadata": {},
   "source": [
    "Add the method polar to print a polar representation of the complex number:"
   ]
  },
  {
   "cell_type": "code",
   "execution_count": 21,
   "metadata": {},
   "outputs": [
    {
     "name": "stdout",
     "output_type": "stream",
     "text": [
      "5.0 * exp (0.9272952180016122 i)\n"
     ]
    }
   ],
   "source": [
    "z1 = Complex(3, 4)\n",
    "print(z1.polar())\n",
    "# z1 . polar ()\n",
    "# #'5.0* exp (0.92779 i) '"
   ]
  }
 ],
 "metadata": {
  "kernel_info": {
   "name": "python"
  },
  "kernelspec": {
   "display_name": "Python 3 (ipykernel)",
   "language": "python",
   "name": "python3"
  },
  "language_info": {
   "codemirror_mode": {
    "name": "ipython",
    "version": 3
   },
   "file_extension": ".py",
   "mimetype": "text/x-python",
   "name": "python",
   "nbconvert_exporter": "python",
   "pygments_lexer": "ipython3",
   "version": "3.11.4"
  },
  "nteract": {
   "version": "nteract-front-end@1.0.0"
  }
 },
 "nbformat": 4,
 "nbformat_minor": 2
}
